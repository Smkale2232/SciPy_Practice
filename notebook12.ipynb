{
 "cells": [
  {
   "cell_type": "code",
   "execution_count": 1,
   "metadata": {},
   "outputs": [
    {
     "name": "stdout",
     "output_type": "stream",
     "text": [
      "(3.0, 9.657432734515774e-14)\n"
     ]
    }
   ],
   "source": [
    "from scipy import integrate\n",
    "import numpy as np\n",
    "#import square root function from math lib\n",
    "from math import sqrt\n",
    "# set  fuction f(x)\n",
    "f = lambda x, y : 64 *x*y\n",
    "# lower limit of second integral\n",
    "p = lambda x : 0\n",
    "# upper limit of first integral\n",
    "q = lambda y : sqrt(1 - 2*y**2)\n",
    "# perform double integration\n",
    "integration = integrate.dblquad(f , 0 , 2/4,  p, q)\n",
    "print(integration)"
   ]
  }
 ],
 "metadata": {
  "kernelspec": {
   "display_name": "Python 3",
   "language": "python",
   "name": "python3"
  },
  "language_info": {
   "codemirror_mode": {
    "name": "ipython",
    "version": 3
   },
   "file_extension": ".py",
   "mimetype": "text/x-python",
   "name": "python",
   "nbconvert_exporter": "python",
   "pygments_lexer": "ipython3",
   "version": "3.12.3"
  }
 },
 "nbformat": 4,
 "nbformat_minor": 2
}
