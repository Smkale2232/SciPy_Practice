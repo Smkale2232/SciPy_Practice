{
 "cells": [
  {
   "cell_type": "code",
   "execution_count": 24,
   "metadata": {},
   "outputs": [],
   "source": [
    "# import numpy library\n",
    "import numpy as np\n",
    "A= [[1, 2,], \n",
    "\t[5, 6,]]\n"
   ]
  },
  {
   "cell_type": "code",
   "execution_count": 25,
   "metadata": {},
   "outputs": [],
   "source": [
    "# importing linalg function from scipy\n",
    "from scipy import linalg\n",
    "A= [[1, 2,], \n",
    "\t[5, 6,]]"
   ]
  },
  {
   "cell_type": "code",
   "execution_count": 26,
   "metadata": {},
   "outputs": [
    {
     "name": "stdout",
     "output_type": "stream",
     "text": [
      "[[0. 1.]\n",
      " [1. 0.]]\n",
      "[[1.  0. ]\n",
      " [0.2 1. ]]\n",
      "[[5.  6. ]\n",
      " [0.  0.8]]\n",
      "[[5. 6.]\n",
      " [1. 2.]]\n"
     ]
    }
   ],
   "source": [
    "\n",
    "P, L, U = linalg.lu(A)\n",
    "print(P)\n",
    "print(L)\n",
    "print(U)\n",
    "# print LU decomposition\n",
    "print(np.dot(L,U))"
   ]
  }
 ],
 "metadata": {
  "kernelspec": {
   "display_name": "Python 3",
   "language": "python",
   "name": "python3"
  },
  "language_info": {
   "codemirror_mode": {
    "name": "ipython",
    "version": 3
   },
   "file_extension": ".py",
   "mimetype": "text/x-python",
   "name": "python",
   "nbconvert_exporter": "python",
   "pygments_lexer": "ipython3",
   "version": "3.12.3"
  }
 },
 "nbformat": 4,
 "nbformat_minor": 2
}
