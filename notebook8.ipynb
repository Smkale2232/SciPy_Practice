{
 "cells": [
  {
   "cell_type": "code",
   "execution_count": 2,
   "metadata": {},
   "outputs": [],
   "source": [
    "from scipy.linalg import eigh\n",
    "import numpy as np"
   ]
  },
  {
   "cell_type": "code",
   "execution_count": 3,
   "metadata": {},
   "outputs": [],
   "source": [
    "A = np.array([[1, 2, 3, 4], [4, 3, 2, 1], [1, 4, 6, 3], [2, 3, 2, 5]])\n",
    "a, b = eigh(A)"
   ]
  },
  {
   "cell_type": "code",
   "execution_count": 4,
   "metadata": {},
   "outputs": [
    {
     "name": "stdout",
     "output_type": "stream",
     "text": [
      "Selected eigenvalues : [-2.53382695  1.66735639  3.69488657 12.17158399]\n",
      "Complex ndarray : [[ 0.69205614 -0.5829305   0.25682823 -0.33954321]\n",
      " [-0.68277875 -0.46838936  0.03700454 -0.5595134 ]\n",
      " [ 0.23275694  0.29164622 -0.72710245 -0.57627139]\n",
      " [ 0.02637572  0.59644441  0.63560361 -0.48945525]]\n"
     ]
    }
   ],
   "source": [
    "print(\"Selected eigenvalues :\", a)\n",
    "print(\"Complex ndarray :\", b)"
   ]
  }
 ],
 "metadata": {
  "kernelspec": {
   "display_name": "Python 3",
   "language": "python",
   "name": "python3"
  },
  "language_info": {
   "codemirror_mode": {
    "name": "ipython",
    "version": 3
   },
   "file_extension": ".py",
   "mimetype": "text/x-python",
   "name": "python",
   "nbconvert_exporter": "python",
   "pygments_lexer": "ipython3",
   "version": "3.12.3"
  }
 },
 "nbformat": 4,
 "nbformat_minor": 2
}
